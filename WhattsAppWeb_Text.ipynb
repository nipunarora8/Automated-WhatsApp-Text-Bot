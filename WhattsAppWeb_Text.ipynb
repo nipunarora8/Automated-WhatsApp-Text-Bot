{
 "cells": [
  {
   "cell_type": "markdown",
   "metadata": {},
   "source": [
    "# Automated Whatts App Texting Bot"
   ]
  },
  {
   "cell_type": "markdown",
   "metadata": {},
   "source": [
    "### Wanna send something multiple times? Here's a solution!!"
   ]
  },
  {
   "cell_type": "markdown",
   "metadata": {},
   "source": [
    "#### Please install selenium beforehand using !pip install selenium or check the documentation on the website"
   ]
  },
  {
   "cell_type": "code",
   "execution_count": 1,
   "metadata": {},
   "outputs": [],
   "source": [
    "from selenium import webdriver\n",
    "from tqdm import tqdm_notebook\n",
    "driver = webdriver.Firefox()\n",
    "\n",
    "driver.get(\"https://web.whatsapp.com/\")"
   ]
  },
  {
   "cell_type": "markdown",
   "metadata": {},
   "source": [
    "<img src=\"img/ss1.png\">"
   ]
  },
  {
   "cell_type": "code",
   "execution_count": 4,
   "metadata": {},
   "outputs": [
    {
     "name": "stdout",
     "output_type": "stream",
     "text": [
      "Enter the name of the chat or the group: Bot\n",
      "Enter the message: *Hey, How are you?*\n",
      "Enter the number of times: 10\n",
      "Press enter after scanningF\n"
     ]
    },
    {
     "data": {
      "application/vnd.jupyter.widget-view+json": {
       "model_id": "93e668a4b108405d8381a258a8bbbbf9",
       "version_major": 2,
       "version_minor": 0
      },
      "text/plain": [
       "HBox(children=(IntProgress(value=0, max=10), HTML(value='')))"
      ]
     },
     "metadata": {},
     "output_type": "display_data"
    },
    {
     "name": "stdout",
     "output_type": "stream",
     "text": [
      "\n",
      "Done\n"
     ]
    }
   ],
   "source": [
    "name = input(\"Enter the name of the chat or the group: \")\n",
    "msg = input(\"Enter the message: \")\n",
    "count = int(input(\"Enter the number of times: \"))\n",
    "\n",
    "a=input(\"Press enter after scanning\")\n",
    "\n",
    "\n",
    "user = driver.find_element_by_xpath('//span[@title=\"{}\"]'.format(name))\n",
    "user.click()\n",
    "\n",
    "msg_box = driver.find_element_by_xpath('/html/body/div[1]/div/div/div[4]/div/footer/div[1]/div[2]/div/div[2]')\n",
    "\n",
    "for i in tqdm_notebook(range(count)):\n",
    "    msg_box.send_keys(msg)\n",
    "    button = driver.find_element_by_xpath('/html/body/div[1]/div/div/div[4]/div/footer/div[1]/div[3]/button')\n",
    "    button.click()\n",
    "    \n",
    "print(\"Done\")"
   ]
  },
  {
   "cell_type": "markdown",
   "metadata": {},
   "source": [
    "<img src=\"img/ss2.png\">"
   ]
  },
  {
   "cell_type": "markdown",
   "metadata": {},
   "source": [
    "### Our script sent 10 messages to the chat Bot\n",
    "##### Wanna show someome how much you love them? Go send 100 I Love You's to them. \n",
    "##### Thank me later. "
   ]
  },
  {
   "cell_type": "code",
   "execution_count": null,
   "metadata": {},
   "outputs": [],
   "source": []
  }
 ],
 "metadata": {
  "kernelspec": {
   "display_name": "Python 3",
   "language": "python",
   "name": "python3"
  },
  "language_info": {
   "codemirror_mode": {
    "name": "ipython",
    "version": 3
   },
   "file_extension": ".py",
   "mimetype": "text/x-python",
   "name": "python",
   "nbconvert_exporter": "python",
   "pygments_lexer": "ipython3",
   "version": "3.7.3"
  }
 },
 "nbformat": 4,
 "nbformat_minor": 2
}
